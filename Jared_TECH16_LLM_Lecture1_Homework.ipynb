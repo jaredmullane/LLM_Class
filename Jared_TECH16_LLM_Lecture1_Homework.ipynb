{
  "nbformat": 4,
  "nbformat_minor": 0,
  "metadata": {
    "colab": {
      "provenance": [],
      "include_colab_link": true
    },
    "kernelspec": {
      "name": "python3",
      "display_name": "Python 3"
    },
    "language_info": {
      "name": "python"
    }
  },
  "cells": [
    {
      "cell_type": "markdown",
      "metadata": {
        "id": "view-in-github",
        "colab_type": "text"
      },
      "source": [
        "<a href=\"https://colab.research.google.com/github/jaredmullane/LLM_Class/blob/main/Jared_TECH16_LLM_Lecture1_Homework.ipynb\" target=\"_parent\"><img src=\"https://colab.research.google.com/assets/colab-badge.svg\" alt=\"Open In Colab\"/></a>"
      ]
    },
    {
      "cell_type": "code",
      "source": [
        "!pip install openai"
      ],
      "metadata": {
        "id": "UAsj88npPdRu",
        "colab": {
          "base_uri": "https://localhost:8080/"
        },
        "outputId": "77bb345b-1bd7-4a38-dc0e-7712b975aec7"
      },
      "execution_count": null,
      "outputs": [
        {
          "output_type": "stream",
          "name": "stdout",
          "text": [
            "Collecting openai\n",
            "  Downloading openai-1.11.1-py3-none-any.whl (226 kB)\n",
            "\u001b[?25l     \u001b[90m━━━━━━━━━━━━━━━━━━━━━━━━━━━━━━━━━━━━━━━━\u001b[0m \u001b[32m0.0/226.1 kB\u001b[0m \u001b[31m?\u001b[0m eta \u001b[36m-:--:--\u001b[0m\r\u001b[2K     \u001b[91m━━━━━━━━━━━━━━━━━━━━━━━━━━━━\u001b[0m\u001b[91m╸\u001b[0m\u001b[90m━━━━━━━━━━━\u001b[0m \u001b[32m163.8/226.1 kB\u001b[0m \u001b[31m4.7 MB/s\u001b[0m eta \u001b[36m0:00:01\u001b[0m\r\u001b[2K     \u001b[90m━━━━━━━━━━━━━━━━━━━━━━━━━━━━━━━━━━━━━━━━\u001b[0m \u001b[32m226.1/226.1 kB\u001b[0m \u001b[31m4.6 MB/s\u001b[0m eta \u001b[36m0:00:00\u001b[0m\n",
            "\u001b[?25hRequirement already satisfied: anyio<5,>=3.5.0 in /usr/local/lib/python3.10/dist-packages (from openai) (3.7.1)\n",
            "Requirement already satisfied: distro<2,>=1.7.0 in /usr/lib/python3/dist-packages (from openai) (1.7.0)\n",
            "Collecting httpx<1,>=0.23.0 (from openai)\n",
            "  Downloading httpx-0.26.0-py3-none-any.whl (75 kB)\n",
            "\u001b[2K     \u001b[90m━━━━━━━━━━━━━━━━━━━━━━━━━━━━━━━━━━━━━━━━\u001b[0m \u001b[32m75.9/75.9 kB\u001b[0m \u001b[31m9.1 MB/s\u001b[0m eta \u001b[36m0:00:00\u001b[0m\n",
            "\u001b[?25hRequirement already satisfied: pydantic<3,>=1.9.0 in /usr/local/lib/python3.10/dist-packages (from openai) (1.10.14)\n",
            "Requirement already satisfied: sniffio in /usr/local/lib/python3.10/dist-packages (from openai) (1.3.0)\n",
            "Requirement already satisfied: tqdm>4 in /usr/local/lib/python3.10/dist-packages (from openai) (4.66.1)\n",
            "Collecting typing-extensions<5,>=4.7 (from openai)\n",
            "  Downloading typing_extensions-4.9.0-py3-none-any.whl (32 kB)\n",
            "Requirement already satisfied: idna>=2.8 in /usr/local/lib/python3.10/dist-packages (from anyio<5,>=3.5.0->openai) (3.6)\n",
            "Requirement already satisfied: exceptiongroup in /usr/local/lib/python3.10/dist-packages (from anyio<5,>=3.5.0->openai) (1.2.0)\n",
            "Requirement already satisfied: certifi in /usr/local/lib/python3.10/dist-packages (from httpx<1,>=0.23.0->openai) (2023.11.17)\n",
            "Collecting httpcore==1.* (from httpx<1,>=0.23.0->openai)\n",
            "  Downloading httpcore-1.0.2-py3-none-any.whl (76 kB)\n",
            "\u001b[2K     \u001b[90m━━━━━━━━━━━━━━━━━━━━━━━━━━━━━━━━━━━━━━━━\u001b[0m \u001b[32m76.9/76.9 kB\u001b[0m \u001b[31m7.8 MB/s\u001b[0m eta \u001b[36m0:00:00\u001b[0m\n",
            "\u001b[?25hCollecting h11<0.15,>=0.13 (from httpcore==1.*->httpx<1,>=0.23.0->openai)\n",
            "  Downloading h11-0.14.0-py3-none-any.whl (58 kB)\n",
            "\u001b[2K     \u001b[90m━━━━━━━━━━━━━━━━━━━━━━━━━━━━━━━━━━━━━━━━\u001b[0m \u001b[32m58.3/58.3 kB\u001b[0m \u001b[31m7.3 MB/s\u001b[0m eta \u001b[36m0:00:00\u001b[0m\n",
            "\u001b[?25hInstalling collected packages: typing-extensions, h11, httpcore, httpx, openai\n",
            "  Attempting uninstall: typing-extensions\n",
            "    Found existing installation: typing_extensions 4.5.0\n",
            "    Uninstalling typing_extensions-4.5.0:\n",
            "      Successfully uninstalled typing_extensions-4.5.0\n",
            "\u001b[31mERROR: pip's dependency resolver does not currently take into account all the packages that are installed. This behaviour is the source of the following dependency conflicts.\n",
            "llmx 0.0.15a0 requires cohere, which is not installed.\n",
            "llmx 0.0.15a0 requires tiktoken, which is not installed.\n",
            "tensorflow-probability 0.22.0 requires typing-extensions<4.6.0, but you have typing-extensions 4.9.0 which is incompatible.\u001b[0m\u001b[31m\n",
            "\u001b[0mSuccessfully installed h11-0.14.0 httpcore-1.0.2 httpx-0.26.0 openai-1.11.1 typing-extensions-4.9.0\n"
          ]
        }
      ]
    },
    {
      "cell_type": "code",
      "source": [
        "from openai import OpenAI\n",
        "from google.colab import userdata\n",
        "\n",
        "open_ai_key = userdata.get('OpenAI')\n",
        "\n",
        "client = OpenAI(api_key=open_ai_key)\n",
        "\n",
        "response = client.chat.completions.create(\n",
        "  model=\"gpt-3.5-turbo\",\n",
        "  # response_format={ \"type\": \"json_object\" },\n",
        "  messages=[\n",
        "    {\"role\": \"system\", \"content\": \"You are an AI that takes instructions from a human and produces an answer. Be concise in your output.\"},\n",
        "    {\"role\": \"user\", \"content\": \"Compose a haiku about students studing large language models in Stanford on a Wednesday night.\"}\n",
        "  ]\n",
        ")\n",
        "\n",
        "print(response)\n"
      ],
      "metadata": {
        "id": "Ft0dVY1iOLhv",
        "colab": {
          "base_uri": "https://localhost:8080/"
        },
        "outputId": "826f108a-00d6-41d2-ceec-8ce8bcffd3d9"
      },
      "execution_count": null,
      "outputs": [
        {
          "output_type": "stream",
          "name": "stdout",
          "text": [
            "ChatCompletion(id='chatcmpl-8ofX95RdFPykhg90qGTnFB3AoXgnr', choices=[Choice(finish_reason='stop', index=0, logprobs=None, message=ChatCompletionMessage(content=\"Students gather, learn,\\nStanford's halls alight with words,\\nLanguage blooms at night.\", role='assistant', function_call=None, tool_calls=None))], created=1707086747, model='gpt-3.5-turbo-0613', object='chat.completion', system_fingerprint=None, usage=CompletionUsage(completion_tokens=19, prompt_tokens=50, total_tokens=69))\n"
          ]
        }
      ]
    },
    {
      "cell_type": "code",
      "source": [
        "print(response.choices[0].message.content)"
      ],
      "metadata": {
        "id": "7YKYlHu_R2Vn",
        "colab": {
          "base_uri": "https://localhost:8080/"
        },
        "outputId": "a01bcbc0-10ed-43b9-fec6-f97f0b92639f"
      },
      "execution_count": null,
      "outputs": [
        {
          "output_type": "stream",
          "name": "stdout",
          "text": [
            "Students, late at night,\n",
            "Stanford's language models teach,\n",
            "Minds expanding bright.\n"
          ]
        }
      ]
    },
    {
      "cell_type": "markdown",
      "source": [
        "# Homework\n"
      ],
      "metadata": {
        "id": "jaKXksKrUl5n"
      }
    },
    {
      "cell_type": "code",
      "source": [
        "from openai import OpenAI\n",
        "from google.colab import userdata\n",
        "\n",
        "open_ai_key = userdata.get('OpenAI')\n",
        "\n",
        "client = OpenAI(api_key=open_ai_key)\n",
        "\n",
        "response1 = client.chat.completions.create(\n",
        "  model=\"gpt-3.5-turbo\",\n",
        "  messages=[\n",
        "    {\"role\": \"system\", \"content\": \"You are a constitutional law professor concisely summarizing material to your class\"},\n",
        "    {\"role\": \"user\", \"content\": \"\"\"\n",
        "\t      The U.S. Bill of Rights\n",
        "      Amendment I\n",
        "      Congress shall make no law respecting an establishment of religion, or prohibiting the free exercise thereof; or abridging the freedom of speech, or of the press; or the right of the people peaceably to assemble, and to petition the Government for a redress of grievances.\n",
        "      Amendment II\n",
        "      A well regulated Militia, being necessary to the security of a free State, the right of the people to keep and bear Arms, shall not be infringed.\n",
        "      Amendment III\n",
        "      No Soldier shall, in time of peace be quartered in any house, without the consent of the Owner, nor in time of war, but in a manner to be prescribed by law.\n",
        "      Amendment IV\n",
        "      The right of the people to be secure in their persons, houses, papers, and effects, against unreasonable searches and seizures, shall not be violated, and no Warrants shall issue, but upon probable cause, supported by Oath or affirmation, and particularly describing the place to be searched, and the persons or things to be seized.\n",
        "      Amendment V\n",
        "      No person shall be held to answer for a capital, or otherwise infamous crime, unless on a presentment or indictment of a Grand Jury, except in cases arising in the land or naval forces, or in the Militia, when in actual service in time of War or public danger; nor shall any person be subject for the same offence to be twice put in jeopardy of life or limb; nor shall be compelled in any criminal case to be a witness against himself, nor be deprived of life, liberty, or property, without due process of law; nor shall private property be taken for public use, without just compensation.\n",
        "      Amendment VI\n",
        "      In all criminal prosecutions, the accused shall enjoy the right to a speedy and public trial, by an impartial jury of the State and district wherein the crime shall have been committed, which district shall have been previously ascertained by law, and to be informed of the nature and cause of the accusation; to be confronted with the witnesses against him; to have compulsory process for obtaining witnesses in his favor, and to have the Assistance of Counsel for his defence.\n",
        "      Amendment VII\n",
        "      In Suits at common law, where the value in controversy shall exceed twenty dollars, the right of trial by jury shall be preserved, and no fact tried by a jury, shall be otherwise re-examined in any Court of the United States, than according to the rules of the common law.\n",
        "      Amendment VIII\n",
        "      Excessive bail shall not be required, nor excessive fines imposed, nor cruel and unusual punishments inflicted.\n",
        "      Amendment IX\n",
        "      The enumeration in the Constitution, of certain rights, shall not be construed to deny or disparage others retained by the people.\n",
        "      Amendment X\n",
        "      The powers not delegated to the United States by the Constitution, nor prohibited by it to the States, are reserved to the States respectively, or to the people.\n",
        "        \"\"\"}\n",
        "  ]\n",
        ")\n",
        "\n",
        "import textwrap\n",
        "\n",
        "text = response1.choices[0].message.content\n",
        "\n",
        "# Wrap the text to a maximum width of 80 characters\n",
        "wrapped_text = textwrap.wrap(text, width=80)\n",
        "\n",
        "# Print the wrapped text\n",
        "for line in wrapped_text:\n",
        "    print(line)"
      ],
      "metadata": {
        "colab": {
          "base_uri": "https://localhost:8080/"
        },
        "id": "zvyyGYKYUlUU",
        "outputId": "a8e50784-cd0d-4fc5-af19-6a9ce54f46f2"
      },
      "execution_count": null,
      "outputs": [
        {
          "output_type": "stream",
          "name": "stdout",
          "text": [
            "The U.S. Bill of Rights, consisting of the first ten amendments to the U.S.\n",
            "Constitution, contains key provisions guaranteeing individual rights and\n",
            "limiting the powers of the government.   Amendment I protects freedom of\n",
            "religion, speech, press, assembly, and the right to petition the government for\n",
            "redress of grievances.   Amendment II protects the right of individuals to keep\n",
            "and bear arms, in the context of a well-regulated militia necessary for the\n",
            "security of a free State.  Amendment III prohibits the quartering of soldiers in\n",
            "private homes during peacetime without the consent of the owner.  Amendment IV\n",
            "protects against unreasonable searches and seizures, requiring warrants to be\n",
            "issued only upon probable cause.  Amendment V establishes various procedural\n",
            "safeguards in criminal cases, including protection against double jeopardy,\n",
            "self-incrimination, and the deprivation of life, liberty, or property without\n",
            "due process of law.  Amendment VI guarantees the right to a speedy and public\n",
            "trial by an impartial jury, the right to be informed of the charges, to confront\n",
            "witnesses, and to have legal representation.  Amendment VII preserves the right\n",
            "to trial by jury in civil cases when the amount in controversy exceeds $20.\n",
            "Amendment VIII prohibits excessive bail, fines, and cruel and unusual\n",
            "punishments.  Amendment IX clarifies that the listing of rights in the\n",
            "Constitution does not deny or minimize other rights retained by the people.\n",
            "Amendment X confirms that powers not granted to the federal government by the\n",
            "Constitution, nor prohibited to the states, are reserved for the states or the\n",
            "people.\n"
          ]
        }
      ]
    },
    {
      "cell_type": "markdown",
      "source": [
        "# Comparison\n"
      ],
      "metadata": {
        "id": "WaaDcKNmXDNF"
      }
    },
    {
      "cell_type": "code",
      "source": [
        "from openai import OpenAI\n",
        "from google.colab import userdata\n",
        "\n",
        "open_ai_key = userdata.get('OpenAI')\n",
        "\n",
        "client = OpenAI(api_key=open_ai_key)\n",
        "\n",
        "comparison1 = client.chat.completions.create(\n",
        "  model=\"gpt-3.5-turbo\",\n",
        "  messages=[\n",
        "    {\"role\": \"system\", \"content\": \"You are a constitutional law professor concisely summarizing material to your class\"},\n",
        "    {\"role\": \"user\", \"content\": \"\"\"\n",
        "\t     compare the Bill of Rights to the Declaration of Independence\n",
        "        \"\"\"}\n",
        "  ]\n",
        ")\n",
        "\n",
        "import textwrap\n",
        "\n",
        "text = comparison1.choices[0].message.content\n",
        "\n",
        "# Wrap the text to a maximum width of 80 characters\n",
        "wrapped_text = textwrap.wrap(text, width=80)\n",
        "\n",
        "# Print the wrapped text\n",
        "for line in wrapped_text:\n",
        "    print(line)"
      ],
      "metadata": {
        "colab": {
          "base_uri": "https://localhost:8080/"
        },
        "id": "XbmkhqyYXIec",
        "outputId": "b7d45344-9865-4da1-efbc-906da9be7819"
      },
      "execution_count": null,
      "outputs": [
        {
          "output_type": "stream",
          "name": "stdout",
          "text": [
            "The Bill of Rights and the Declaration of Independence are both important\n",
            "documents in American history, but they serve different purposes and address\n",
            "different aspects of government and individual rights.  The Declaration of\n",
            "Independence, adopted in 1776, was a revolutionary document that announced the\n",
            "American colonies' decision to break away from British rule. Its primary purpose\n",
            "was to justify this act of independence and articulate the principles on which\n",
            "the new nation would be founded. The Declaration emphasizes natural rights,\n",
            "including the belief that all individuals have the right to life, liberty, and\n",
            "the pursuit of happiness. It also asserts that governments derive their power\n",
            "from the consent of the governed and that people have the right to alter or\n",
            "abolish a government that fails to protect their rights.  On the other hand, the\n",
            "Bill of Rights, which comprises the first ten amendments to the United States\n",
            "Constitution, was adopted in 1791. Unlike the Declaration, which is a statement\n",
            "of principles, the Bill of Rights is a series of practical provisions that\n",
            "safeguard individual freedoms and limit the power of the federal government. It\n",
            "guarantees certain fundamental rights, including freedom of speech, religion,\n",
            "and the press, the right to bear arms, and protection against unreasonable\n",
            "searches and seizures. These amendments were added to the Constitution to\n",
            "address concerns raised by the Anti-Federalists, who feared that the original\n",
            "document did not adequately protect individual liberties.  In summary, while the\n",
            "Declaration of Independence sets forth ideals and justifications for\n",
            "independence, the Bill of Rights outlines specific rights and protections for\n",
            "individuals within the new American government.\n"
          ]
        }
      ]
    },
    {
      "cell_type": "code",
      "source": [],
      "metadata": {
        "id": "X-N2AF3k8kTh"
      },
      "execution_count": null,
      "outputs": []
    }
  ]
}