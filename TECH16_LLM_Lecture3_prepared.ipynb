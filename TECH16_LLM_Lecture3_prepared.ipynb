{
  "nbformat": 4,
  "nbformat_minor": 0,
  "metadata": {
    "colab": {
      "provenance": [],
      "include_colab_link": true
    },
    "kernelspec": {
      "name": "python3",
      "display_name": "Python 3"
    },
    "language_info": {
      "name": "python"
    },
    "widgets": {
      "application/vnd.jupyter.widget-state+json": {
        "e29500d2b67342b3868d263a9cdb2781": {
          "model_module": "@jupyter-widgets/controls",
          "model_name": "HBoxModel",
          "model_module_version": "1.5.0",
          "state": {
            "_dom_classes": [],
            "_model_module": "@jupyter-widgets/controls",
            "_model_module_version": "1.5.0",
            "_model_name": "HBoxModel",
            "_view_count": null,
            "_view_module": "@jupyter-widgets/controls",
            "_view_module_version": "1.5.0",
            "_view_name": "HBoxView",
            "box_style": "",
            "children": [
              "IPY_MODEL_dacb061d8c4544cea9d7b87e8e077fb0",
              "IPY_MODEL_6a2b9523399b4d1db1dd0bce9e9c8758",
              "IPY_MODEL_4cbe1063ac074026bb8367868c838c88"
            ],
            "layout": "IPY_MODEL_edd0b940aadc4d17a26be55bae7b3418"
          }
        },
        "dacb061d8c4544cea9d7b87e8e077fb0": {
          "model_module": "@jupyter-widgets/controls",
          "model_name": "HTMLModel",
          "model_module_version": "1.5.0",
          "state": {
            "_dom_classes": [],
            "_model_module": "@jupyter-widgets/controls",
            "_model_module_version": "1.5.0",
            "_model_name": "HTMLModel",
            "_view_count": null,
            "_view_module": "@jupyter-widgets/controls",
            "_view_module_version": "1.5.0",
            "_view_name": "HTMLView",
            "description": "",
            "description_tooltip": null,
            "layout": "IPY_MODEL_345cae0da15143aab56a8e256e1d0cd8",
            "placeholder": "​",
            "style": "IPY_MODEL_18bb0639ce614cb49595be1c772bfda1",
            "value": "Batches: 100%"
          }
        },
        "6a2b9523399b4d1db1dd0bce9e9c8758": {
          "model_module": "@jupyter-widgets/controls",
          "model_name": "FloatProgressModel",
          "model_module_version": "1.5.0",
          "state": {
            "_dom_classes": [],
            "_model_module": "@jupyter-widgets/controls",
            "_model_module_version": "1.5.0",
            "_model_name": "FloatProgressModel",
            "_view_count": null,
            "_view_module": "@jupyter-widgets/controls",
            "_view_module_version": "1.5.0",
            "_view_name": "ProgressView",
            "bar_style": "success",
            "description": "",
            "description_tooltip": null,
            "layout": "IPY_MODEL_04ca41d9d0a04bbdb0b70b2ca8dd827d",
            "max": 4,
            "min": 0,
            "orientation": "horizontal",
            "style": "IPY_MODEL_bd5efe123bc14d3c97c53445d2ff3a6a",
            "value": 4
          }
        },
        "4cbe1063ac074026bb8367868c838c88": {
          "model_module": "@jupyter-widgets/controls",
          "model_name": "HTMLModel",
          "model_module_version": "1.5.0",
          "state": {
            "_dom_classes": [],
            "_model_module": "@jupyter-widgets/controls",
            "_model_module_version": "1.5.0",
            "_model_name": "HTMLModel",
            "_view_count": null,
            "_view_module": "@jupyter-widgets/controls",
            "_view_module_version": "1.5.0",
            "_view_name": "HTMLView",
            "description": "",
            "description_tooltip": null,
            "layout": "IPY_MODEL_9365900ca4a84c728f28a075c72fc26f",
            "placeholder": "​",
            "style": "IPY_MODEL_3c9c227f49684919b30fe6feb1fb49f4",
            "value": " 4/4 [00:06&lt;00:00,  1.68s/it]"
          }
        },
        "edd0b940aadc4d17a26be55bae7b3418": {
          "model_module": "@jupyter-widgets/base",
          "model_name": "LayoutModel",
          "model_module_version": "1.2.0",
          "state": {
            "_model_module": "@jupyter-widgets/base",
            "_model_module_version": "1.2.0",
            "_model_name": "LayoutModel",
            "_view_count": null,
            "_view_module": "@jupyter-widgets/base",
            "_view_module_version": "1.2.0",
            "_view_name": "LayoutView",
            "align_content": null,
            "align_items": null,
            "align_self": null,
            "border": null,
            "bottom": null,
            "display": null,
            "flex": null,
            "flex_flow": null,
            "grid_area": null,
            "grid_auto_columns": null,
            "grid_auto_flow": null,
            "grid_auto_rows": null,
            "grid_column": null,
            "grid_gap": null,
            "grid_row": null,
            "grid_template_areas": null,
            "grid_template_columns": null,
            "grid_template_rows": null,
            "height": null,
            "justify_content": null,
            "justify_items": null,
            "left": null,
            "margin": null,
            "max_height": null,
            "max_width": null,
            "min_height": null,
            "min_width": null,
            "object_fit": null,
            "object_position": null,
            "order": null,
            "overflow": null,
            "overflow_x": null,
            "overflow_y": null,
            "padding": null,
            "right": null,
            "top": null,
            "visibility": null,
            "width": null
          }
        },
        "345cae0da15143aab56a8e256e1d0cd8": {
          "model_module": "@jupyter-widgets/base",
          "model_name": "LayoutModel",
          "model_module_version": "1.2.0",
          "state": {
            "_model_module": "@jupyter-widgets/base",
            "_model_module_version": "1.2.0",
            "_model_name": "LayoutModel",
            "_view_count": null,
            "_view_module": "@jupyter-widgets/base",
            "_view_module_version": "1.2.0",
            "_view_name": "LayoutView",
            "align_content": null,
            "align_items": null,
            "align_self": null,
            "border": null,
            "bottom": null,
            "display": null,
            "flex": null,
            "flex_flow": null,
            "grid_area": null,
            "grid_auto_columns": null,
            "grid_auto_flow": null,
            "grid_auto_rows": null,
            "grid_column": null,
            "grid_gap": null,
            "grid_row": null,
            "grid_template_areas": null,
            "grid_template_columns": null,
            "grid_template_rows": null,
            "height": null,
            "justify_content": null,
            "justify_items": null,
            "left": null,
            "margin": null,
            "max_height": null,
            "max_width": null,
            "min_height": null,
            "min_width": null,
            "object_fit": null,
            "object_position": null,
            "order": null,
            "overflow": null,
            "overflow_x": null,
            "overflow_y": null,
            "padding": null,
            "right": null,
            "top": null,
            "visibility": null,
            "width": null
          }
        },
        "18bb0639ce614cb49595be1c772bfda1": {
          "model_module": "@jupyter-widgets/controls",
          "model_name": "DescriptionStyleModel",
          "model_module_version": "1.5.0",
          "state": {
            "_model_module": "@jupyter-widgets/controls",
            "_model_module_version": "1.5.0",
            "_model_name": "DescriptionStyleModel",
            "_view_count": null,
            "_view_module": "@jupyter-widgets/base",
            "_view_module_version": "1.2.0",
            "_view_name": "StyleView",
            "description_width": ""
          }
        },
        "04ca41d9d0a04bbdb0b70b2ca8dd827d": {
          "model_module": "@jupyter-widgets/base",
          "model_name": "LayoutModel",
          "model_module_version": "1.2.0",
          "state": {
            "_model_module": "@jupyter-widgets/base",
            "_model_module_version": "1.2.0",
            "_model_name": "LayoutModel",
            "_view_count": null,
            "_view_module": "@jupyter-widgets/base",
            "_view_module_version": "1.2.0",
            "_view_name": "LayoutView",
            "align_content": null,
            "align_items": null,
            "align_self": null,
            "border": null,
            "bottom": null,
            "display": null,
            "flex": null,
            "flex_flow": null,
            "grid_area": null,
            "grid_auto_columns": null,
            "grid_auto_flow": null,
            "grid_auto_rows": null,
            "grid_column": null,
            "grid_gap": null,
            "grid_row": null,
            "grid_template_areas": null,
            "grid_template_columns": null,
            "grid_template_rows": null,
            "height": null,
            "justify_content": null,
            "justify_items": null,
            "left": null,
            "margin": null,
            "max_height": null,
            "max_width": null,
            "min_height": null,
            "min_width": null,
            "object_fit": null,
            "object_position": null,
            "order": null,
            "overflow": null,
            "overflow_x": null,
            "overflow_y": null,
            "padding": null,
            "right": null,
            "top": null,
            "visibility": null,
            "width": null
          }
        },
        "bd5efe123bc14d3c97c53445d2ff3a6a": {
          "model_module": "@jupyter-widgets/controls",
          "model_name": "ProgressStyleModel",
          "model_module_version": "1.5.0",
          "state": {
            "_model_module": "@jupyter-widgets/controls",
            "_model_module_version": "1.5.0",
            "_model_name": "ProgressStyleModel",
            "_view_count": null,
            "_view_module": "@jupyter-widgets/base",
            "_view_module_version": "1.2.0",
            "_view_name": "StyleView",
            "bar_color": null,
            "description_width": ""
          }
        },
        "9365900ca4a84c728f28a075c72fc26f": {
          "model_module": "@jupyter-widgets/base",
          "model_name": "LayoutModel",
          "model_module_version": "1.2.0",
          "state": {
            "_model_module": "@jupyter-widgets/base",
            "_model_module_version": "1.2.0",
            "_model_name": "LayoutModel",
            "_view_count": null,
            "_view_module": "@jupyter-widgets/base",
            "_view_module_version": "1.2.0",
            "_view_name": "LayoutView",
            "align_content": null,
            "align_items": null,
            "align_self": null,
            "border": null,
            "bottom": null,
            "display": null,
            "flex": null,
            "flex_flow": null,
            "grid_area": null,
            "grid_auto_columns": null,
            "grid_auto_flow": null,
            "grid_auto_rows": null,
            "grid_column": null,
            "grid_gap": null,
            "grid_row": null,
            "grid_template_areas": null,
            "grid_template_columns": null,
            "grid_template_rows": null,
            "height": null,
            "justify_content": null,
            "justify_items": null,
            "left": null,
            "margin": null,
            "max_height": null,
            "max_width": null,
            "min_height": null,
            "min_width": null,
            "object_fit": null,
            "object_position": null,
            "order": null,
            "overflow": null,
            "overflow_x": null,
            "overflow_y": null,
            "padding": null,
            "right": null,
            "top": null,
            "visibility": null,
            "width": null
          }
        },
        "3c9c227f49684919b30fe6feb1fb49f4": {
          "model_module": "@jupyter-widgets/controls",
          "model_name": "DescriptionStyleModel",
          "model_module_version": "1.5.0",
          "state": {
            "_model_module": "@jupyter-widgets/controls",
            "_model_module_version": "1.5.0",
            "_model_name": "DescriptionStyleModel",
            "_view_count": null,
            "_view_module": "@jupyter-widgets/base",
            "_view_module_version": "1.2.0",
            "_view_name": "StyleView",
            "description_width": ""
          }
        }
      }
    }
  },
  "cells": [
    {
      "cell_type": "markdown",
      "metadata": {
        "id": "view-in-github",
        "colab_type": "text"
      },
      "source": [
        "<a href=\"https://colab.research.google.com/github/jaredmullane/LLM_Class/blob/main/TECH16_LLM_Lecture3_prepared.ipynb\" target=\"_parent\"><img src=\"https://colab.research.google.com/assets/colab-badge.svg\" alt=\"Open In Colab\"/></a>"
      ]
    },
    {
      "cell_type": "code",
      "source": [
        "!pip install openai\n",
        "!pip install sentence-transformers\n",
        "!pip install langchain pypdf langchain-openai #tiktoken chromadb"
      ],
      "metadata": {
        "id": "UAsj88npPdRu"
      },
      "execution_count": null,
      "outputs": []
    },
    {
      "cell_type": "markdown",
      "source": [
        "# Embeddings"
      ],
      "metadata": {
        "id": "Vj2PBB467lzD"
      }
    },
    {
      "cell_type": "code",
      "source": [
        "import pandas as pd\n",
        "\n",
        "df = pd.read_csv('http://bit.ly/dataset-sst2',\n",
        "                 nrows=100, sep='\\t', names=['text', 'label'])\n",
        "\n",
        "df['label'] = df['label'].replace({0: 'negative', 1: 'positive'})"
      ],
      "metadata": {
        "id": "_Z5_ncPs7oFB"
      },
      "execution_count": null,
      "outputs": []
    },
    {
      "cell_type": "code",
      "source": [
        "df.head()"
      ],
      "metadata": {
        "colab": {
          "base_uri": "https://localhost:8080/",
          "height": 206
        },
        "id": "m3gjQAWT7w2Y",
        "outputId": "5ad71e8a-fbe2-4db1-e258-3cd56c7bae6e"
      },
      "execution_count": null,
      "outputs": [
        {
          "output_type": "execute_result",
          "data": {
            "text/plain": [
              "                                                text     label\n",
              "0  a stirring , funny and finally transporting re...  positive\n",
              "1  apparently reassembled from the cutting room f...  negative\n",
              "2  they presume their audience wo n't sit still f...  negative\n",
              "3  this is a visually stunning rumination on love...  positive\n",
              "4  jonathan parker 's bartleby should have been t...  positive"
            ],
            "text/html": [
              "\n",
              "  <div id=\"df-17b87068-7ad0-4e09-b817-798f6f4f8a18\" class=\"colab-df-container\">\n",
              "    <div>\n",
              "<style scoped>\n",
              "    .dataframe tbody tr th:only-of-type {\n",
              "        vertical-align: middle;\n",
              "    }\n",
              "\n",
              "    .dataframe tbody tr th {\n",
              "        vertical-align: top;\n",
              "    }\n",
              "\n",
              "    .dataframe thead th {\n",
              "        text-align: right;\n",
              "    }\n",
              "</style>\n",
              "<table border=\"1\" class=\"dataframe\">\n",
              "  <thead>\n",
              "    <tr style=\"text-align: right;\">\n",
              "      <th></th>\n",
              "      <th>text</th>\n",
              "      <th>label</th>\n",
              "    </tr>\n",
              "  </thead>\n",
              "  <tbody>\n",
              "    <tr>\n",
              "      <th>0</th>\n",
              "      <td>a stirring , funny and finally transporting re...</td>\n",
              "      <td>positive</td>\n",
              "    </tr>\n",
              "    <tr>\n",
              "      <th>1</th>\n",
              "      <td>apparently reassembled from the cutting room f...</td>\n",
              "      <td>negative</td>\n",
              "    </tr>\n",
              "    <tr>\n",
              "      <th>2</th>\n",
              "      <td>they presume their audience wo n't sit still f...</td>\n",
              "      <td>negative</td>\n",
              "    </tr>\n",
              "    <tr>\n",
              "      <th>3</th>\n",
              "      <td>this is a visually stunning rumination on love...</td>\n",
              "      <td>positive</td>\n",
              "    </tr>\n",
              "    <tr>\n",
              "      <th>4</th>\n",
              "      <td>jonathan parker 's bartleby should have been t...</td>\n",
              "      <td>positive</td>\n",
              "    </tr>\n",
              "  </tbody>\n",
              "</table>\n",
              "</div>\n",
              "    <div class=\"colab-df-buttons\">\n",
              "\n",
              "  <div class=\"colab-df-container\">\n",
              "    <button class=\"colab-df-convert\" onclick=\"convertToInteractive('df-17b87068-7ad0-4e09-b817-798f6f4f8a18')\"\n",
              "            title=\"Convert this dataframe to an interactive table.\"\n",
              "            style=\"display:none;\">\n",
              "\n",
              "  <svg xmlns=\"http://www.w3.org/2000/svg\" height=\"24px\" viewBox=\"0 -960 960 960\">\n",
              "    <path d=\"M120-120v-720h720v720H120Zm60-500h600v-160H180v160Zm220 220h160v-160H400v160Zm0 220h160v-160H400v160ZM180-400h160v-160H180v160Zm440 0h160v-160H620v160ZM180-180h160v-160H180v160Zm440 0h160v-160H620v160Z\"/>\n",
              "  </svg>\n",
              "    </button>\n",
              "\n",
              "  <style>\n",
              "    .colab-df-container {\n",
              "      display:flex;\n",
              "      gap: 12px;\n",
              "    }\n",
              "\n",
              "    .colab-df-convert {\n",
              "      background-color: #E8F0FE;\n",
              "      border: none;\n",
              "      border-radius: 50%;\n",
              "      cursor: pointer;\n",
              "      display: none;\n",
              "      fill: #1967D2;\n",
              "      height: 32px;\n",
              "      padding: 0 0 0 0;\n",
              "      width: 32px;\n",
              "    }\n",
              "\n",
              "    .colab-df-convert:hover {\n",
              "      background-color: #E2EBFA;\n",
              "      box-shadow: 0px 1px 2px rgba(60, 64, 67, 0.3), 0px 1px 3px 1px rgba(60, 64, 67, 0.15);\n",
              "      fill: #174EA6;\n",
              "    }\n",
              "\n",
              "    .colab-df-buttons div {\n",
              "      margin-bottom: 4px;\n",
              "    }\n",
              "\n",
              "    [theme=dark] .colab-df-convert {\n",
              "      background-color: #3B4455;\n",
              "      fill: #D2E3FC;\n",
              "    }\n",
              "\n",
              "    [theme=dark] .colab-df-convert:hover {\n",
              "      background-color: #434B5C;\n",
              "      box-shadow: 0px 1px 3px 1px rgba(0, 0, 0, 0.15);\n",
              "      filter: drop-shadow(0px 1px 2px rgba(0, 0, 0, 0.3));\n",
              "      fill: #FFFFFF;\n",
              "    }\n",
              "  </style>\n",
              "\n",
              "    <script>\n",
              "      const buttonEl =\n",
              "        document.querySelector('#df-17b87068-7ad0-4e09-b817-798f6f4f8a18 button.colab-df-convert');\n",
              "      buttonEl.style.display =\n",
              "        google.colab.kernel.accessAllowed ? 'block' : 'none';\n",
              "\n",
              "      async function convertToInteractive(key) {\n",
              "        const element = document.querySelector('#df-17b87068-7ad0-4e09-b817-798f6f4f8a18');\n",
              "        const dataTable =\n",
              "          await google.colab.kernel.invokeFunction('convertToInteractive',\n",
              "                                                    [key], {});\n",
              "        if (!dataTable) return;\n",
              "\n",
              "        const docLinkHtml = 'Like what you see? Visit the ' +\n",
              "          '<a target=\"_blank\" href=https://colab.research.google.com/notebooks/data_table.ipynb>data table notebook</a>'\n",
              "          + ' to learn more about interactive tables.';\n",
              "        element.innerHTML = '';\n",
              "        dataTable['output_type'] = 'display_data';\n",
              "        await google.colab.output.renderOutput(dataTable, element);\n",
              "        const docLink = document.createElement('div');\n",
              "        docLink.innerHTML = docLinkHtml;\n",
              "        element.appendChild(docLink);\n",
              "      }\n",
              "    </script>\n",
              "  </div>\n",
              "\n",
              "\n",
              "<div id=\"df-aa9c151f-4e8a-4ca3-a309-15269945d224\">\n",
              "  <button class=\"colab-df-quickchart\" onclick=\"quickchart('df-aa9c151f-4e8a-4ca3-a309-15269945d224')\"\n",
              "            title=\"Suggest charts\"\n",
              "            style=\"display:none;\">\n",
              "\n",
              "<svg xmlns=\"http://www.w3.org/2000/svg\" height=\"24px\"viewBox=\"0 0 24 24\"\n",
              "     width=\"24px\">\n",
              "    <g>\n",
              "        <path d=\"M19 3H5c-1.1 0-2 .9-2 2v14c0 1.1.9 2 2 2h14c1.1 0 2-.9 2-2V5c0-1.1-.9-2-2-2zM9 17H7v-7h2v7zm4 0h-2V7h2v10zm4 0h-2v-4h2v4z\"/>\n",
              "    </g>\n",
              "</svg>\n",
              "  </button>\n",
              "\n",
              "<style>\n",
              "  .colab-df-quickchart {\n",
              "      --bg-color: #E8F0FE;\n",
              "      --fill-color: #1967D2;\n",
              "      --hover-bg-color: #E2EBFA;\n",
              "      --hover-fill-color: #174EA6;\n",
              "      --disabled-fill-color: #AAA;\n",
              "      --disabled-bg-color: #DDD;\n",
              "  }\n",
              "\n",
              "  [theme=dark] .colab-df-quickchart {\n",
              "      --bg-color: #3B4455;\n",
              "      --fill-color: #D2E3FC;\n",
              "      --hover-bg-color: #434B5C;\n",
              "      --hover-fill-color: #FFFFFF;\n",
              "      --disabled-bg-color: #3B4455;\n",
              "      --disabled-fill-color: #666;\n",
              "  }\n",
              "\n",
              "  .colab-df-quickchart {\n",
              "    background-color: var(--bg-color);\n",
              "    border: none;\n",
              "    border-radius: 50%;\n",
              "    cursor: pointer;\n",
              "    display: none;\n",
              "    fill: var(--fill-color);\n",
              "    height: 32px;\n",
              "    padding: 0;\n",
              "    width: 32px;\n",
              "  }\n",
              "\n",
              "  .colab-df-quickchart:hover {\n",
              "    background-color: var(--hover-bg-color);\n",
              "    box-shadow: 0 1px 2px rgba(60, 64, 67, 0.3), 0 1px 3px 1px rgba(60, 64, 67, 0.15);\n",
              "    fill: var(--button-hover-fill-color);\n",
              "  }\n",
              "\n",
              "  .colab-df-quickchart-complete:disabled,\n",
              "  .colab-df-quickchart-complete:disabled:hover {\n",
              "    background-color: var(--disabled-bg-color);\n",
              "    fill: var(--disabled-fill-color);\n",
              "    box-shadow: none;\n",
              "  }\n",
              "\n",
              "  .colab-df-spinner {\n",
              "    border: 2px solid var(--fill-color);\n",
              "    border-color: transparent;\n",
              "    border-bottom-color: var(--fill-color);\n",
              "    animation:\n",
              "      spin 1s steps(1) infinite;\n",
              "  }\n",
              "\n",
              "  @keyframes spin {\n",
              "    0% {\n",
              "      border-color: transparent;\n",
              "      border-bottom-color: var(--fill-color);\n",
              "      border-left-color: var(--fill-color);\n",
              "    }\n",
              "    20% {\n",
              "      border-color: transparent;\n",
              "      border-left-color: var(--fill-color);\n",
              "      border-top-color: var(--fill-color);\n",
              "    }\n",
              "    30% {\n",
              "      border-color: transparent;\n",
              "      border-left-color: var(--fill-color);\n",
              "      border-top-color: var(--fill-color);\n",
              "      border-right-color: var(--fill-color);\n",
              "    }\n",
              "    40% {\n",
              "      border-color: transparent;\n",
              "      border-right-color: var(--fill-color);\n",
              "      border-top-color: var(--fill-color);\n",
              "    }\n",
              "    60% {\n",
              "      border-color: transparent;\n",
              "      border-right-color: var(--fill-color);\n",
              "    }\n",
              "    80% {\n",
              "      border-color: transparent;\n",
              "      border-right-color: var(--fill-color);\n",
              "      border-bottom-color: var(--fill-color);\n",
              "    }\n",
              "    90% {\n",
              "      border-color: transparent;\n",
              "      border-bottom-color: var(--fill-color);\n",
              "    }\n",
              "  }\n",
              "</style>\n",
              "\n",
              "  <script>\n",
              "    async function quickchart(key) {\n",
              "      const quickchartButtonEl =\n",
              "        document.querySelector('#' + key + ' button');\n",
              "      quickchartButtonEl.disabled = true;  // To prevent multiple clicks.\n",
              "      quickchartButtonEl.classList.add('colab-df-spinner');\n",
              "      try {\n",
              "        const charts = await google.colab.kernel.invokeFunction(\n",
              "            'suggestCharts', [key], {});\n",
              "      } catch (error) {\n",
              "        console.error('Error during call to suggestCharts:', error);\n",
              "      }\n",
              "      quickchartButtonEl.classList.remove('colab-df-spinner');\n",
              "      quickchartButtonEl.classList.add('colab-df-quickchart-complete');\n",
              "    }\n",
              "    (() => {\n",
              "      let quickchartButtonEl =\n",
              "        document.querySelector('#df-aa9c151f-4e8a-4ca3-a309-15269945d224 button');\n",
              "      quickchartButtonEl.style.display =\n",
              "        google.colab.kernel.accessAllowed ? 'block' : 'none';\n",
              "    })();\n",
              "  </script>\n",
              "</div>\n",
              "\n",
              "    </div>\n",
              "  </div>\n"
            ],
            "application/vnd.google.colaboratory.intrinsic+json": {
              "type": "dataframe",
              "variable_name": "df",
              "summary": "{\n  \"name\": \"df\",\n  \"rows\": 100,\n  \"fields\": [\n    {\n      \"column\": \"text\",\n      \"properties\": {\n        \"dtype\": \"string\",\n        \"samples\": [\n          \"its solemn pretension prevents us from sharing the awe in which it holds itself\",\n          \"it 's worth taking the kids to\",\n          \"more successful at relating history than in creating an emotionally complex , dramatically satisfying heroine\"\n        ],\n        \"num_unique_values\": 100,\n        \"semantic_type\": \"\",\n        \"description\": \"\"\n      }\n    },\n    {\n      \"column\": \"label\",\n      \"properties\": {\n        \"dtype\": \"category\",\n        \"samples\": [\n          \"negative\",\n          \"positive\"\n        ],\n        \"num_unique_values\": 2,\n        \"semantic_type\": \"\",\n        \"description\": \"\"\n      }\n    }\n  ]\n}"
            }
          },
          "metadata": {},
          "execution_count": 38
        }
      ]
    },
    {
      "cell_type": "code",
      "source": [
        "from sentence_transformers import SentenceTransformer\n",
        "\n",
        "sentence_bert_model = SentenceTransformer('distilbert-base-nli-stsb-mean-tokens')\n",
        "\n",
        "def get_embeddings(sentences):\n",
        "    return sentence_bert_model.encode(sentences,\n",
        "                                    batch_size=32,\n",
        "                                    show_progress_bar=True)"
      ],
      "metadata": {
        "id": "qcdrIOkh7uJ9"
      },
      "execution_count": null,
      "outputs": []
    },
    {
      "cell_type": "code",
      "source": [
        "e = get_embeddings(df['text'])"
      ],
      "metadata": {
        "colab": {
          "base_uri": "https://localhost:8080/",
          "height": 49,
          "referenced_widgets": [
            "e29500d2b67342b3868d263a9cdb2781",
            "dacb061d8c4544cea9d7b87e8e077fb0",
            "6a2b9523399b4d1db1dd0bce9e9c8758",
            "4cbe1063ac074026bb8367868c838c88",
            "edd0b940aadc4d17a26be55bae7b3418",
            "345cae0da15143aab56a8e256e1d0cd8",
            "18bb0639ce614cb49595be1c772bfda1",
            "04ca41d9d0a04bbdb0b70b2ca8dd827d",
            "bd5efe123bc14d3c97c53445d2ff3a6a",
            "9365900ca4a84c728f28a075c72fc26f",
            "3c9c227f49684919b30fe6feb1fb49f4"
          ]
        },
        "id": "IN1vEsXb8JJ_",
        "outputId": "65ce3d6e-7a3e-4e65-99fa-255e12ee09e4"
      },
      "execution_count": null,
      "outputs": [
        {
          "output_type": "display_data",
          "data": {
            "text/plain": [
              "Batches:   0%|          | 0/4 [00:00<?, ?it/s]"
            ],
            "application/vnd.jupyter.widget-view+json": {
              "version_major": 2,
              "version_minor": 0,
              "model_id": "e29500d2b67342b3868d263a9cdb2781"
            }
          },
          "metadata": {}
        }
      ]
    },
    {
      "cell_type": "code",
      "source": [
        "# Convert NumPy array of embedding into data frame\n",
        "embedding_df = pd.DataFrame(e)\n",
        "\n",
        "# Save dataframe as as TSV file without any index and header\n",
        "embedding_df.to_csv('output.tsv', sep='\\t', index=None, header=None)"
      ],
      "metadata": {
        "id": "vIcvWFM98JMZ"
      },
      "execution_count": null,
      "outputs": []
    },
    {
      "cell_type": "code",
      "source": [
        "embedding_df.head()"
      ],
      "metadata": {
        "colab": {
          "base_uri": "https://localhost:8080/",
          "height": 256
        },
        "id": "mGEQtgog8kTp",
        "outputId": "b3cbfb5a-ed4f-46f5-ee9a-04c3fd408025"
      },
      "execution_count": null,
      "outputs": [
        {
          "output_type": "execute_result",
          "data": {
            "text/plain": [
              "        0         1         2         3         4         5         6    \\\n",
              "0  0.007687  0.220588  1.107231 -0.805425 -0.189138  0.175037 -0.095774   \n",
              "1  0.131850 -1.051062  0.379231 -0.066255 -0.299081 -0.981428  0.958280   \n",
              "2  0.146425  0.026571  0.910159 -0.720145 -0.057320  0.184523 -0.354749   \n",
              "3  0.725216  0.400027  0.550635 -0.415071  0.321567  0.476579 -0.268125   \n",
              "4  0.386160  0.437597 -0.229873 -0.328631  0.146723  0.166341  0.614475   \n",
              "\n",
              "        7         8         9    ...       758       759       760       761  \\\n",
              "0 -1.149741  0.614675 -0.406313  ... -0.091129 -0.930856 -0.770217  0.830264   \n",
              "1 -0.036092 -0.081783 -0.722954  ...  0.048544 -0.194993  0.429362  1.433621   \n",
              "2 -0.819164  0.438382 -0.083151  ... -0.953810  0.045402 -0.156494 -0.422207   \n",
              "3  0.285532 -0.096131 -0.754695  ... -0.834957 -0.458781 -0.016415  0.061812   \n",
              "4 -0.451549 -0.415271  0.054353  ... -0.144842 -0.170682  0.482448  0.865259   \n",
              "\n",
              "        762       763       764       765       766       767  \n",
              "0 -0.214198  0.400544  0.974435 -0.599894  0.419343 -0.242024  \n",
              "1  0.303520 -0.217460 -0.337119 -0.513364  0.613231  0.939613  \n",
              "2 -0.472993  0.141547  0.079621 -0.068062 -0.347549 -0.200186  \n",
              "3 -0.027487  0.248662  0.333310 -0.202887 -0.089137 -0.841737  \n",
              "4  0.456433 -0.029702  0.791408  0.490984  0.352877  0.135437  \n",
              "\n",
              "[5 rows x 768 columns]"
            ],
            "text/html": [
              "\n",
              "  <div id=\"df-60d6523b-3f8d-4ebb-92f3-c910060e5524\" class=\"colab-df-container\">\n",
              "    <div>\n",
              "<style scoped>\n",
              "    .dataframe tbody tr th:only-of-type {\n",
              "        vertical-align: middle;\n",
              "    }\n",
              "\n",
              "    .dataframe tbody tr th {\n",
              "        vertical-align: top;\n",
              "    }\n",
              "\n",
              "    .dataframe thead th {\n",
              "        text-align: right;\n",
              "    }\n",
              "</style>\n",
              "<table border=\"1\" class=\"dataframe\">\n",
              "  <thead>\n",
              "    <tr style=\"text-align: right;\">\n",
              "      <th></th>\n",
              "      <th>0</th>\n",
              "      <th>1</th>\n",
              "      <th>2</th>\n",
              "      <th>3</th>\n",
              "      <th>4</th>\n",
              "      <th>5</th>\n",
              "      <th>6</th>\n",
              "      <th>7</th>\n",
              "      <th>8</th>\n",
              "      <th>9</th>\n",
              "      <th>...</th>\n",
              "      <th>758</th>\n",
              "      <th>759</th>\n",
              "      <th>760</th>\n",
              "      <th>761</th>\n",
              "      <th>762</th>\n",
              "      <th>763</th>\n",
              "      <th>764</th>\n",
              "      <th>765</th>\n",
              "      <th>766</th>\n",
              "      <th>767</th>\n",
              "    </tr>\n",
              "  </thead>\n",
              "  <tbody>\n",
              "    <tr>\n",
              "      <th>0</th>\n",
              "      <td>0.007687</td>\n",
              "      <td>0.220588</td>\n",
              "      <td>1.107231</td>\n",
              "      <td>-0.805425</td>\n",
              "      <td>-0.189138</td>\n",
              "      <td>0.175037</td>\n",
              "      <td>-0.095774</td>\n",
              "      <td>-1.149741</td>\n",
              "      <td>0.614675</td>\n",
              "      <td>-0.406313</td>\n",
              "      <td>...</td>\n",
              "      <td>-0.091129</td>\n",
              "      <td>-0.930856</td>\n",
              "      <td>-0.770217</td>\n",
              "      <td>0.830264</td>\n",
              "      <td>-0.214198</td>\n",
              "      <td>0.400544</td>\n",
              "      <td>0.974435</td>\n",
              "      <td>-0.599894</td>\n",
              "      <td>0.419343</td>\n",
              "      <td>-0.242024</td>\n",
              "    </tr>\n",
              "    <tr>\n",
              "      <th>1</th>\n",
              "      <td>0.131850</td>\n",
              "      <td>-1.051062</td>\n",
              "      <td>0.379231</td>\n",
              "      <td>-0.066255</td>\n",
              "      <td>-0.299081</td>\n",
              "      <td>-0.981428</td>\n",
              "      <td>0.958280</td>\n",
              "      <td>-0.036092</td>\n",
              "      <td>-0.081783</td>\n",
              "      <td>-0.722954</td>\n",
              "      <td>...</td>\n",
              "      <td>0.048544</td>\n",
              "      <td>-0.194993</td>\n",
              "      <td>0.429362</td>\n",
              "      <td>1.433621</td>\n",
              "      <td>0.303520</td>\n",
              "      <td>-0.217460</td>\n",
              "      <td>-0.337119</td>\n",
              "      <td>-0.513364</td>\n",
              "      <td>0.613231</td>\n",
              "      <td>0.939613</td>\n",
              "    </tr>\n",
              "    <tr>\n",
              "      <th>2</th>\n",
              "      <td>0.146425</td>\n",
              "      <td>0.026571</td>\n",
              "      <td>0.910159</td>\n",
              "      <td>-0.720145</td>\n",
              "      <td>-0.057320</td>\n",
              "      <td>0.184523</td>\n",
              "      <td>-0.354749</td>\n",
              "      <td>-0.819164</td>\n",
              "      <td>0.438382</td>\n",
              "      <td>-0.083151</td>\n",
              "      <td>...</td>\n",
              "      <td>-0.953810</td>\n",
              "      <td>0.045402</td>\n",
              "      <td>-0.156494</td>\n",
              "      <td>-0.422207</td>\n",
              "      <td>-0.472993</td>\n",
              "      <td>0.141547</td>\n",
              "      <td>0.079621</td>\n",
              "      <td>-0.068062</td>\n",
              "      <td>-0.347549</td>\n",
              "      <td>-0.200186</td>\n",
              "    </tr>\n",
              "    <tr>\n",
              "      <th>3</th>\n",
              "      <td>0.725216</td>\n",
              "      <td>0.400027</td>\n",
              "      <td>0.550635</td>\n",
              "      <td>-0.415071</td>\n",
              "      <td>0.321567</td>\n",
              "      <td>0.476579</td>\n",
              "      <td>-0.268125</td>\n",
              "      <td>0.285532</td>\n",
              "      <td>-0.096131</td>\n",
              "      <td>-0.754695</td>\n",
              "      <td>...</td>\n",
              "      <td>-0.834957</td>\n",
              "      <td>-0.458781</td>\n",
              "      <td>-0.016415</td>\n",
              "      <td>0.061812</td>\n",
              "      <td>-0.027487</td>\n",
              "      <td>0.248662</td>\n",
              "      <td>0.333310</td>\n",
              "      <td>-0.202887</td>\n",
              "      <td>-0.089137</td>\n",
              "      <td>-0.841737</td>\n",
              "    </tr>\n",
              "    <tr>\n",
              "      <th>4</th>\n",
              "      <td>0.386160</td>\n",
              "      <td>0.437597</td>\n",
              "      <td>-0.229873</td>\n",
              "      <td>-0.328631</td>\n",
              "      <td>0.146723</td>\n",
              "      <td>0.166341</td>\n",
              "      <td>0.614475</td>\n",
              "      <td>-0.451549</td>\n",
              "      <td>-0.415271</td>\n",
              "      <td>0.054353</td>\n",
              "      <td>...</td>\n",
              "      <td>-0.144842</td>\n",
              "      <td>-0.170682</td>\n",
              "      <td>0.482448</td>\n",
              "      <td>0.865259</td>\n",
              "      <td>0.456433</td>\n",
              "      <td>-0.029702</td>\n",
              "      <td>0.791408</td>\n",
              "      <td>0.490984</td>\n",
              "      <td>0.352877</td>\n",
              "      <td>0.135437</td>\n",
              "    </tr>\n",
              "  </tbody>\n",
              "</table>\n",
              "<p>5 rows × 768 columns</p>\n",
              "</div>\n",
              "    <div class=\"colab-df-buttons\">\n",
              "\n",
              "  <div class=\"colab-df-container\">\n",
              "    <button class=\"colab-df-convert\" onclick=\"convertToInteractive('df-60d6523b-3f8d-4ebb-92f3-c910060e5524')\"\n",
              "            title=\"Convert this dataframe to an interactive table.\"\n",
              "            style=\"display:none;\">\n",
              "\n",
              "  <svg xmlns=\"http://www.w3.org/2000/svg\" height=\"24px\" viewBox=\"0 -960 960 960\">\n",
              "    <path d=\"M120-120v-720h720v720H120Zm60-500h600v-160H180v160Zm220 220h160v-160H400v160Zm0 220h160v-160H400v160ZM180-400h160v-160H180v160Zm440 0h160v-160H620v160ZM180-180h160v-160H180v160Zm440 0h160v-160H620v160Z\"/>\n",
              "  </svg>\n",
              "    </button>\n",
              "\n",
              "  <style>\n",
              "    .colab-df-container {\n",
              "      display:flex;\n",
              "      gap: 12px;\n",
              "    }\n",
              "\n",
              "    .colab-df-convert {\n",
              "      background-color: #E8F0FE;\n",
              "      border: none;\n",
              "      border-radius: 50%;\n",
              "      cursor: pointer;\n",
              "      display: none;\n",
              "      fill: #1967D2;\n",
              "      height: 32px;\n",
              "      padding: 0 0 0 0;\n",
              "      width: 32px;\n",
              "    }\n",
              "\n",
              "    .colab-df-convert:hover {\n",
              "      background-color: #E2EBFA;\n",
              "      box-shadow: 0px 1px 2px rgba(60, 64, 67, 0.3), 0px 1px 3px 1px rgba(60, 64, 67, 0.15);\n",
              "      fill: #174EA6;\n",
              "    }\n",
              "\n",
              "    .colab-df-buttons div {\n",
              "      margin-bottom: 4px;\n",
              "    }\n",
              "\n",
              "    [theme=dark] .colab-df-convert {\n",
              "      background-color: #3B4455;\n",
              "      fill: #D2E3FC;\n",
              "    }\n",
              "\n",
              "    [theme=dark] .colab-df-convert:hover {\n",
              "      background-color: #434B5C;\n",
              "      box-shadow: 0px 1px 3px 1px rgba(0, 0, 0, 0.15);\n",
              "      filter: drop-shadow(0px 1px 2px rgba(0, 0, 0, 0.3));\n",
              "      fill: #FFFFFF;\n",
              "    }\n",
              "  </style>\n",
              "\n",
              "    <script>\n",
              "      const buttonEl =\n",
              "        document.querySelector('#df-60d6523b-3f8d-4ebb-92f3-c910060e5524 button.colab-df-convert');\n",
              "      buttonEl.style.display =\n",
              "        google.colab.kernel.accessAllowed ? 'block' : 'none';\n",
              "\n",
              "      async function convertToInteractive(key) {\n",
              "        const element = document.querySelector('#df-60d6523b-3f8d-4ebb-92f3-c910060e5524');\n",
              "        const dataTable =\n",
              "          await google.colab.kernel.invokeFunction('convertToInteractive',\n",
              "                                                    [key], {});\n",
              "        if (!dataTable) return;\n",
              "\n",
              "        const docLinkHtml = 'Like what you see? Visit the ' +\n",
              "          '<a target=\"_blank\" href=https://colab.research.google.com/notebooks/data_table.ipynb>data table notebook</a>'\n",
              "          + ' to learn more about interactive tables.';\n",
              "        element.innerHTML = '';\n",
              "        dataTable['output_type'] = 'display_data';\n",
              "        await google.colab.output.renderOutput(dataTable, element);\n",
              "        const docLink = document.createElement('div');\n",
              "        docLink.innerHTML = docLinkHtml;\n",
              "        element.appendChild(docLink);\n",
              "      }\n",
              "    </script>\n",
              "  </div>\n",
              "\n",
              "\n",
              "<div id=\"df-e8e0c703-b4ac-4c9e-8d2f-3548f02ce686\">\n",
              "  <button class=\"colab-df-quickchart\" onclick=\"quickchart('df-e8e0c703-b4ac-4c9e-8d2f-3548f02ce686')\"\n",
              "            title=\"Suggest charts\"\n",
              "            style=\"display:none;\">\n",
              "\n",
              "<svg xmlns=\"http://www.w3.org/2000/svg\" height=\"24px\"viewBox=\"0 0 24 24\"\n",
              "     width=\"24px\">\n",
              "    <g>\n",
              "        <path d=\"M19 3H5c-1.1 0-2 .9-2 2v14c0 1.1.9 2 2 2h14c1.1 0 2-.9 2-2V5c0-1.1-.9-2-2-2zM9 17H7v-7h2v7zm4 0h-2V7h2v10zm4 0h-2v-4h2v4z\"/>\n",
              "    </g>\n",
              "</svg>\n",
              "  </button>\n",
              "\n",
              "<style>\n",
              "  .colab-df-quickchart {\n",
              "      --bg-color: #E8F0FE;\n",
              "      --fill-color: #1967D2;\n",
              "      --hover-bg-color: #E2EBFA;\n",
              "      --hover-fill-color: #174EA6;\n",
              "      --disabled-fill-color: #AAA;\n",
              "      --disabled-bg-color: #DDD;\n",
              "  }\n",
              "\n",
              "  [theme=dark] .colab-df-quickchart {\n",
              "      --bg-color: #3B4455;\n",
              "      --fill-color: #D2E3FC;\n",
              "      --hover-bg-color: #434B5C;\n",
              "      --hover-fill-color: #FFFFFF;\n",
              "      --disabled-bg-color: #3B4455;\n",
              "      --disabled-fill-color: #666;\n",
              "  }\n",
              "\n",
              "  .colab-df-quickchart {\n",
              "    background-color: var(--bg-color);\n",
              "    border: none;\n",
              "    border-radius: 50%;\n",
              "    cursor: pointer;\n",
              "    display: none;\n",
              "    fill: var(--fill-color);\n",
              "    height: 32px;\n",
              "    padding: 0;\n",
              "    width: 32px;\n",
              "  }\n",
              "\n",
              "  .colab-df-quickchart:hover {\n",
              "    background-color: var(--hover-bg-color);\n",
              "    box-shadow: 0 1px 2px rgba(60, 64, 67, 0.3), 0 1px 3px 1px rgba(60, 64, 67, 0.15);\n",
              "    fill: var(--button-hover-fill-color);\n",
              "  }\n",
              "\n",
              "  .colab-df-quickchart-complete:disabled,\n",
              "  .colab-df-quickchart-complete:disabled:hover {\n",
              "    background-color: var(--disabled-bg-color);\n",
              "    fill: var(--disabled-fill-color);\n",
              "    box-shadow: none;\n",
              "  }\n",
              "\n",
              "  .colab-df-spinner {\n",
              "    border: 2px solid var(--fill-color);\n",
              "    border-color: transparent;\n",
              "    border-bottom-color: var(--fill-color);\n",
              "    animation:\n",
              "      spin 1s steps(1) infinite;\n",
              "  }\n",
              "\n",
              "  @keyframes spin {\n",
              "    0% {\n",
              "      border-color: transparent;\n",
              "      border-bottom-color: var(--fill-color);\n",
              "      border-left-color: var(--fill-color);\n",
              "    }\n",
              "    20% {\n",
              "      border-color: transparent;\n",
              "      border-left-color: var(--fill-color);\n",
              "      border-top-color: var(--fill-color);\n",
              "    }\n",
              "    30% {\n",
              "      border-color: transparent;\n",
              "      border-left-color: var(--fill-color);\n",
              "      border-top-color: var(--fill-color);\n",
              "      border-right-color: var(--fill-color);\n",
              "    }\n",
              "    40% {\n",
              "      border-color: transparent;\n",
              "      border-right-color: var(--fill-color);\n",
              "      border-top-color: var(--fill-color);\n",
              "    }\n",
              "    60% {\n",
              "      border-color: transparent;\n",
              "      border-right-color: var(--fill-color);\n",
              "    }\n",
              "    80% {\n",
              "      border-color: transparent;\n",
              "      border-right-color: var(--fill-color);\n",
              "      border-bottom-color: var(--fill-color);\n",
              "    }\n",
              "    90% {\n",
              "      border-color: transparent;\n",
              "      border-bottom-color: var(--fill-color);\n",
              "    }\n",
              "  }\n",
              "</style>\n",
              "\n",
              "  <script>\n",
              "    async function quickchart(key) {\n",
              "      const quickchartButtonEl =\n",
              "        document.querySelector('#' + key + ' button');\n",
              "      quickchartButtonEl.disabled = true;  // To prevent multiple clicks.\n",
              "      quickchartButtonEl.classList.add('colab-df-spinner');\n",
              "      try {\n",
              "        const charts = await google.colab.kernel.invokeFunction(\n",
              "            'suggestCharts', [key], {});\n",
              "      } catch (error) {\n",
              "        console.error('Error during call to suggestCharts:', error);\n",
              "      }\n",
              "      quickchartButtonEl.classList.remove('colab-df-spinner');\n",
              "      quickchartButtonEl.classList.add('colab-df-quickchart-complete');\n",
              "    }\n",
              "    (() => {\n",
              "      let quickchartButtonEl =\n",
              "        document.querySelector('#df-e8e0c703-b4ac-4c9e-8d2f-3548f02ce686 button');\n",
              "      quickchartButtonEl.style.display =\n",
              "        google.colab.kernel.accessAllowed ? 'block' : 'none';\n",
              "    })();\n",
              "  </script>\n",
              "</div>\n",
              "\n",
              "    </div>\n",
              "  </div>\n"
            ],
            "application/vnd.google.colaboratory.intrinsic+json": {
              "type": "dataframe",
              "variable_name": "embedding_df"
            }
          },
          "metadata": {},
          "execution_count": 43
        }
      ]
    },
    {
      "cell_type": "code",
      "source": [
        "# Save dataframe without any index\n",
        "df.to_csv('metadata.tsv', index=False, sep='\\t')"
      ],
      "metadata": {
        "id": "MWdtD2ur8SAE"
      },
      "execution_count": null,
      "outputs": []
    },
    {
      "cell_type": "markdown",
      "source": [
        "Embeddings projector link: https://projector.tensorflow.org/"
      ],
      "metadata": {
        "id": "vQ5Y4OIWti3U"
      }
    },
    {
      "cell_type": "markdown",
      "source": [
        "# Standard imports"
      ],
      "metadata": {
        "id": "kAN9wVRY7q1L"
      }
    },
    {
      "cell_type": "code",
      "source": [
        "from openai import OpenAI\n",
        "from google.colab import userdata\n",
        "\n",
        "open_ai_key = userdata.get('OpenAI')\n",
        "client = OpenAI(api_key=open_ai_key)\n"
      ],
      "metadata": {
        "id": "Ft0dVY1iOLhv"
      },
      "execution_count": null,
      "outputs": []
    },
    {
      "cell_type": "markdown",
      "source": [
        "# Langchain & summarizing PDF's"
      ],
      "metadata": {
        "id": "p6ti4VrlvFWj"
      }
    },
    {
      "cell_type": "code",
      "source": [
        "# Get a PDF\n",
        "!wget https://arxiv.org/pdf/2401.16212.pdf"
      ],
      "metadata": {
        "colab": {
          "base_uri": "https://localhost:8080/"
        },
        "id": "nE5ZaG8FvOeR",
        "outputId": "bf4e9eb6-08aa-4db1-e7b4-d56c47dea50c"
      },
      "execution_count": null,
      "outputs": [
        {
          "output_type": "stream",
          "name": "stdout",
          "text": [
            "--2024-02-14 19:48:08--  https://arxiv.org/pdf/2401.16212.pdf\n",
            "Resolving arxiv.org (arxiv.org)... 151.101.67.42, 151.101.195.42, 151.101.131.42, ...\n",
            "Connecting to arxiv.org (arxiv.org)|151.101.67.42|:443... connected.\n",
            "HTTP request sent, awaiting response... 200 OK\n",
            "Length: 512852 (501K) [application/pdf]\n",
            "Saving to: ‘2401.16212.pdf’\n",
            "\n",
            "2401.16212.pdf      100%[===================>] 500.83K  --.-KB/s    in 0.05s   \n",
            "\n",
            "2024-02-14 19:48:08 (9.95 MB/s) - ‘2401.16212.pdf’ saved [512852/512852]\n",
            "\n"
          ]
        }
      ]
    },
    {
      "cell_type": "code",
      "source": [
        "!ls"
      ],
      "metadata": {
        "colab": {
          "base_uri": "https://localhost:8080/"
        },
        "id": "54LWtNYvvOl5",
        "outputId": "1f232152-ad12-4752-f72b-0797f6c426c7"
      },
      "execution_count": null,
      "outputs": [
        {
          "output_type": "stream",
          "name": "stdout",
          "text": [
            "article_increasingreturns.pdf  meta_test.tsv  output_test.tsv  report.pdf\n",
            "metadata.tsv\t\t       meta.tsv       output.tsv       sample_data\n"
          ]
        }
      ]
    },
    {
      "cell_type": "code",
      "source": [
        "!wget https://www.morganstanley.com/im/publication/insights/articles/article_increasingreturns.pdf"
      ],
      "metadata": {
        "colab": {
          "base_uri": "https://localhost:8080/"
        },
        "id": "rg3xOtPjDwud",
        "outputId": "72cbd298-15e0-4139-8e53-b93fcc9bd53f"
      },
      "execution_count": null,
      "outputs": [
        {
          "output_type": "stream",
          "name": "stdout",
          "text": [
            "--2024-02-14 19:20:32--  https://www.morganstanley.com/im/publication/insights/articles/article_increasingreturns.pdf\n",
            "Resolving www.morganstanley.com (www.morganstanley.com)... 104.115.172.233\n",
            "Connecting to www.morganstanley.com (www.morganstanley.com)|104.115.172.233|:443... connected.\n",
            "HTTP request sent, awaiting response... 200 OK\n",
            "Length: unspecified [application/pdf]\n",
            "Saving to: ‘article_increasingreturns.pdf.1’\n",
            "\n",
            "article_increasingr     [ <=>                ] 570.73K  --.-KB/s    in 0.1s    \n",
            "\n",
            "2024-02-14 19:20:33 (4.78 MB/s) - ‘article_increasingreturns.pdf.1’ saved [584426]\n",
            "\n"
          ]
        }
      ]
    },
    {
      "cell_type": "code",
      "source": [
        "from langchain_community.document_loaders import PyPDFLoader\n",
        "\n",
        "loader = PyPDFLoader(\"2401.16212.pdf\")\n",
        "pages = loader.load_and_split()"
      ],
      "metadata": {
        "id": "34HMl-vPvUlM"
      },
      "execution_count": null,
      "outputs": []
    },
    {
      "cell_type": "code",
      "source": [
        "pages[0]"
      ],
      "metadata": {
        "colab": {
          "base_uri": "https://localhost:8080/"
        },
        "id": "EmGWqFLIvkqV",
        "outputId": "42fb9ab1-1548-40b7-f7a0-2dc833259ab1"
      },
      "execution_count": null,
      "outputs": [
        {
          "output_type": "execute_result",
          "data": {
            "text/plain": [
              "Document(page_content='Better Call GPT, Comparing Large Language Models Against Lawyers\\nLAUREN MARTIN, NICK WHITEHOUSE, STEPHANIE YIU, LIZZIE CATTERSON, RIVINDU\\nPERERA, AI Center of Excellence, Onit Inc., New Zealand\\nThis paper presents a groundbreaking comparison between Large Language Models (LLMs) and traditional legal contract review-\\ners—Junior Lawyers and Legal Process Outsourcers (LPOs). We dissect whether LLMs can outperform humans in accuracy, speed,\\nand cost-efficiency during contract review. Our empirical analysis benchmarks LLMs against a ground truth set by Senior Lawyers,\\nuncovering that advanced models match or exceed human accuracy in determining legal issues. In speed, LLMs complete reviews in\\nmere seconds, eclipsing the hours required by their human counterparts. Cost-wise, LLMs operate at a fraction of the price, offering a\\nstaggering 99.97 percent reduction in cost over traditional methods. These results are not just statistics—they signal a seismic shift in\\nlegal practice. LLMs stand poised to disrupt the legal industry, enhancing accessibility and efficiency of legal services. Our research\\nasserts that the era of LLM dominance in legal contract review is upon us, challenging the status quo and calling for a reimagined\\nfuture of legal workflows.\\nCCS Concepts: •Computing methodologies →Natural language generation ;Information extraction ;•Applied computing\\n→Law;Document searching .\\nAdditional Key Words and Phrases: Generative AI, Large Language Models, LegalAI, NLP\\nReference Format:\\nLauren Martin, Nick Whitehouse, Stephanie Yiu, Lizzie Catterson, Rivindu Perera. 2024. Better Call GPT, Comparing Large Language\\nModels Against Lawyers. 1, 1 (January 2024), 16 pages. https://doi.org/10.1145/nnnnnnn.nnnnnnn\\n1 INTRODUCTION\\nThe integration of Artificial Intelligence (AI) into the legal sector has opened a new frontier in legal services. However, as\\nof the current state of research, there appears to be a significant gap in exploratory and experimental studies specifically\\naddressing the capabilities of Generative AI and Large Language Models (LLMs) in the context of determination and\\ndiscovery of legal issues. Such studies would be instrumental in understanding how these advanced AI technologies\\nmanage the intricate task of accurately classifying and pinpointing legal matters, a domain traditionally reliant on the\\ndeep, contextual, and specialised knowledge of human legal experts.\\nTo address the identified gap in the research landscape, this study proposes an experimental and exploratory analysis\\nof the performance of LLMs in the legal domain. The research aims to evaluate the capabilities of LLMs contrasting\\ntheir performance against human legal practitioners on high volume real-world legal tasks. These types of high volume\\nlegal tasks are frequently outsourced or pushed to less experienced lawyers, and given the rapid advancements made\\nby LLMs, raises the question of whether LLMs have achieved a level of legal comprehension that is comparable to the\\nquality, accuracy and efficiency of Junior Lawyers or outsourced legal practitioners on such tasks.\\nAuthor’s address: Lauren Martin, Nick Whitehouse, Stephanie Yiu, Lizzie Catterson, Rivindu Perera, AI Center of Excellence, Onit Inc., Auckland, New\\nZealand, lauren.martin@onit.com.\\nPermission to make digital or hard copies of all or part of this work for personal or classroom use is granted without fee provided that copies are not\\nmade or distributed for profit or commercial advantage and that copies bear this notice and the full citation on the first page. Copyrights for components\\nof this work owned by others than the author(s) must be honored. Abstracting with credit is permitted. To copy otherwise, or republish, to post on\\nservers or to redistribute to lists, requires prior specific permission and/or a fee. Request permissions from contact@onit.com.\\n©2023 Copyright held by the owner/author(s). Publication rights licensed to Onit Inc..\\n1arXiv:2401.16212v1  [cs.CY]  24 Jan 2024', metadata={'source': '2401.16212.pdf', 'page': 0})"
            ]
          },
          "metadata": {},
          "execution_count": 104
        }
      ]
    },
    {
      "cell_type": "code",
      "source": [
        "from langchain.chains.summarize import load_summarize_chain\n",
        "from langchain_community.document_loaders import WebBaseLoader\n",
        "from langchain_openai import ChatOpenAI\n",
        "\n",
        "llm = ChatOpenAI(temperature=0.1, model_name=\"gpt-4-turbo-preview\", api_key=open_ai_key)\n",
        "chain = load_summarize_chain(llm, chain_type=\"stuff\")\n",
        "\n",
        "chain.run(pages[0:3])"
      ],
      "metadata": {
        "colab": {
          "base_uri": "https://localhost:8080/",
          "height": 178
        },
        "id": "Krxv5sE1vij9",
        "outputId": "445c0807-277b-456b-e1db-fcccdea7639a"
      },
      "execution_count": null,
      "outputs": [
        {
          "output_type": "execute_result",
          "data": {
            "text/plain": [
              "'This paper, titled \"Better Call GPT, Comparing Large Language Models Against Lawyers\" by Lauren Martin et al., from Onit Inc., New Zealand, explores the effectiveness of Large Language Models (LLMs) in legal contract review tasks, comparing their performance with Junior Lawyers and Legal Process Outsourcers (LPOs). The study focuses on accuracy, speed, and cost-efficiency, finding that LLMs can match or surpass human accuracy in identifying legal issues, significantly outpace humans in speed by completing reviews in seconds, and offer a dramatic cost reduction of 99.97% over traditional methods. These findings suggest a potential paradigm shift in legal practice towards the adoption of LLMs for contract review, promising increased accessibility and efficiency in legal services. The research contributes to the understanding of LLMs\\' capabilities and limitations in the legal domain, indicating a future where LLMs could dominate legal contract review processes.'"
            ],
            "application/vnd.google.colaboratory.intrinsic+json": {
              "type": "string"
            }
          },
          "metadata": {},
          "execution_count": 105
        }
      ]
    },
    {
      "cell_type": "code",
      "source": [
        "from langchain.chains.combine_documents.stuff import StuffDocumentsChain\n",
        "from langchain.chains.llm import LLMChain\n",
        "from langchain.prompts import PromptTemplate\n",
        "\n",
        "# Define prompt\n",
        "prompt_template = \"\"\"Write a concise summary in a maximum of 3 bullets of the following text enclosed within three backticks:\n",
        "```{text}```\n",
        "CONCISE SUMMARY:\"\"\"\n",
        "prompt = PromptTemplate.from_template(prompt_template)\n",
        "\n",
        "# Define LLM chain\n",
        "llm = ChatOpenAI(temperature=0, model_name=\"gpt-4-turbo-preview\", api_key=open_ai_key)\n",
        "llm_chain = LLMChain(llm=llm, prompt=prompt)\n",
        "\n",
        "# Define StuffDocumentsChain\n",
        "stuff_chain = StuffDocumentsChain(llm_chain=llm_chain, document_variable_name=\"text\")\n",
        "\n",
        "print(stuff_chain.run(pages[0:3]))"
      ],
      "metadata": {
        "colab": {
          "base_uri": "https://localhost:8080/"
        },
        "id": "csayOsg-wG6l",
        "outputId": "0d5a95f2-74a8-4a74-9d95-68f89df34665"
      },
      "execution_count": null,
      "outputs": [
        {
          "output_type": "stream",
          "name": "stdout",
          "text": [
            "- The paper evaluates Large Language Models (LLMs) against Junior Lawyers and Legal Process Outsourcers (LPOs) in legal contract review, focusing on accuracy, speed, and cost-efficiency, finding that LLMs match or exceed human accuracy, complete reviews significantly faster, and operate at a much lower cost.\n",
            "- Empirical analysis shows LLMs can provide a 99.97 percent reduction in cost over traditional methods, indicating a potential for significant disruption in the legal industry by enhancing the accessibility and efficiency of legal services.\n",
            "- The research highlights a shift towards LLM dominance in legal contract review, suggesting a need for reimagined legal workflows and the practical effectiveness of LLMs in real-world legal tasks.\n"
          ]
        }
      ]
    },
    {
      "cell_type": "markdown",
      "source": [
        "# RAG"
      ],
      "metadata": {
        "id": "JlNnTJmFN6k9"
      }
    },
    {
      "cell_type": "code",
      "source": [
        "!pip install llama-index --upgrade"
      ],
      "metadata": {
        "id": "o2XmY9HZN-Ji"
      },
      "execution_count": null,
      "outputs": []
    },
    {
      "cell_type": "code",
      "source": [
        "!pip install pypdf"
      ],
      "metadata": {
        "id": "jT6Yd3IqPbwg"
      },
      "execution_count": null,
      "outputs": []
    },
    {
      "cell_type": "code",
      "source": [
        "!wget https://www.goldmansachs.com/intelligence/pages/gs-research/2024-us-equity-outlook-all-you-had-to-do-was-stay/report.pdf"
      ],
      "metadata": {
        "id": "q7t2rkYZEpYE"
      },
      "execution_count": null,
      "outputs": []
    },
    {
      "cell_type": "code",
      "source": [
        "import os\n",
        "os.environ[\"OPENAI_API_KEY\"] = open_ai_key"
      ],
      "metadata": {
        "id": "oJOpJn7ROq0h"
      },
      "execution_count": null,
      "outputs": []
    },
    {
      "cell_type": "code",
      "source": [
        "# Import necessary classes from the llama_index package\n",
        "from llama_index.core import VectorStoreIndex, SimpleDirectoryReader\n",
        "\n",
        "# Read documents from the specified directory and load a specific document, \"report.pdf\".\n",
        "documents = SimpleDirectoryReader(\"./\").load_data(\"report.pdf\")\n",
        "\n",
        "# Create a VectorStoreIndex object from the documents. This will involve processing the documents\n",
        "# and creating a vector representation for each of them, suitable for semantic searching.\n",
        "index = VectorStoreIndex.from_documents(documents)\n",
        "\n",
        "# Convert the VectorStoreIndex object into a query engine. This query engine can be used to\n",
        "# perform semantic searches on the index, matching natural language queries to the most relevant\n",
        "# documents in the index.\n",
        "query_engine = index.as_query_engine()\n",
        "\n",
        "# Use the query engine to search for documents that are relevant to the query\n",
        "# from the indexed documents based on the semantic understanding of the query.\n",
        "response = query_engine.query(\"What is the 2024 outlook for US GDP?\")\n",
        "\n",
        "# Print the response obtained from the query. This will display the result of the semantic search,\n",
        "# showing the information or documents that best match the query about the 2024 outlook.\n",
        "print(response)\n"
      ],
      "metadata": {
        "id": "ivg6ru6pOE4v",
        "colab": {
          "base_uri": "https://localhost:8080/"
        },
        "outputId": "2c46cf3f-1146-4cbb-d454-9665043e9db7"
      },
      "execution_count": null,
      "outputs": [
        {
          "output_type": "stream",
          "name": "stderr",
          "text": [
            "Loading files: 100%|██████████| 2/2 [00:00<00:00,  2.03file/s]\n"
          ]
        },
        {
          "output_type": "stream",
          "name": "stdout",
          "text": [
            "The economists forecast above-consensus full-year GDP growth of 2.1% in 2024. However, this view is already reflected in current equity prices. Despite many economists forecasting a recession, the performance of cyclical stocks vs. defensive stocks is consistent with a 2% real GDP growth regime.\n"
          ]
        }
      ]
    },
    {
      "cell_type": "markdown",
      "source": [
        "# Homework"
      ],
      "metadata": {
        "id": "jaKXksKrUl5n"
      }
    },
    {
      "cell_type": "markdown",
      "source": [
        "1. Create a summarization using langchain and compare the \"stuff\" and \"map-reduce\" methods\n",
        "2. Create a simple RAG system over a knowledge base of your choice"
      ],
      "metadata": {
        "id": "pLEqNedRGCpW"
      }
    },
    {
      "cell_type": "code",
      "source": [],
      "metadata": {
        "id": "NE6DOOdoGLJX"
      },
      "execution_count": null,
      "outputs": []
    }
  ]
}